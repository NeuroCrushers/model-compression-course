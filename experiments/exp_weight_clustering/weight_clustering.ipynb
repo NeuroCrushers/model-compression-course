{
 "cells": [
  {
   "cell_type": "code",
   "execution_count": null,
   "id": "9118d56b-879e-43a4-b1d0-ef9c7b72c390",
   "metadata": {},
   "outputs": [],
   "source": [
    "!pip install tensorflow[and-cuda]\n",
    "!pip install tensorflow-datasets\n",
    "!pip install matplotlib"
   ]
  },
  {
   "cell_type": "code",
   "execution_count": null,
   "id": "290df7d9-1835-494b-8510-e758db41b0fb",
   "metadata": {},
   "outputs": [],
   "source": [
    "import os \n",
    "os.environ['CUDA_VISIBLE_DEVICES'] = \"0\"\n",
    "import tensorflow as tf\n",
    "physical_devices = tf.config.list_physical_devices('GPU')\n",
    "tf.config.experimental.set_memory_growth(physical_devices[0], enable=True)\n",
    "\n",
    "\n",
    "import tensorflow_datasets as tfds\n",
    "import matplotlib.pyplot as plt\n",
    "import re\n",
    "import shutil\n",
    "import string\n",
    "import tensorflow as tf\n",
    "\n",
    "from tensorflow.keras import layers\n",
    "from tensorflow.keras import losses"
   ]
  },
  {
   "cell_type": "code",
   "execution_count": 2,
   "id": "cfdaaa65-991d-49e8-b13c-98771387e9e8",
   "metadata": {},
   "outputs": [],
   "source": [
    "max_features = 10000\n",
    "sequence_length = 250\n",
    "AUTOTUNE = tf.data.AUTOTUNE\n",
    "embedding_dim = 16\n",
    "epochs = 10"
   ]
  },
  {
   "cell_type": "code",
   "execution_count": null,
   "id": "be149c29-f334-464c-aa15-3e6b1f197c94",
   "metadata": {},
   "outputs": [],
   "source": [
    "imdb_train, imdb_test = tfds.load(\n",
    "    \"imdb_reviews\",\n",
    "    split=[\"train\",  \"test\"],\n",
    "    as_supervised=True,\n",
    "    batch_size=64,\n",
    ")"
   ]
  },
  {
   "cell_type": "code",
   "execution_count": 4,
   "id": "aa75b7bb-b3ba-438e-bb89-3b937d94cc58",
   "metadata": {},
   "outputs": [],
   "source": [
    "def custom_standardization(input_data):\n",
    "  lowercase = tf.strings.lower(input_data)\n",
    "  stripped_html = tf.strings.regex_replace(lowercase, '<br />', ' ')\n",
    "  return tf.strings.regex_replace(stripped_html,\n",
    "                                  '[%s]' % re.escape(string.punctuation),\n",
    "                                  '')\n",
    "\n",
    "def vectorize_text(text, label):\n",
    "  text = tf.expand_dims(text, -1)\n",
    "  return vectorize_layer(text), label\n"
   ]
  },
  {
   "cell_type": "code",
   "execution_count": 5,
   "id": "2ed451fc-2b3f-4c04-b789-02f04c9794ad",
   "metadata": {},
   "outputs": [],
   "source": [
    "vectorize_layer = layers.TextVectorization(\n",
    "    standardize=custom_standardization,\n",
    "    max_tokens=max_features,\n",
    "    output_mode='int',\n",
    "    output_sequence_length=sequence_length)\n",
    "\n",
    "train_text = imdb_train.map(lambda x, y: x)\n",
    "vectorize_layer.adapt(train_text)\n",
    "\n",
    "train_ds = imdb_train.map(vectorize_text)\n",
    "test_ds = imdb_train.map(vectorize_text)\n",
    "\n",
    "train_ds = train_ds.cache().prefetch(buffer_size=AUTOTUNE)\n",
    "test_ds = test_ds.cache().prefetch(buffer_size=AUTOTUNE)"
   ]
  },
  {
   "cell_type": "markdown",
   "id": "7aa49888-e892-4352-8879-62e44cfaf6bf",
   "metadata": {},
   "source": [
    "# Baseline model"
   ]
  },
  {
   "cell_type": "code",
   "execution_count": 16,
   "id": "808d4c88-1a6a-4598-ae56-5b9deb6aac98",
   "metadata": {},
   "outputs": [
    {
     "name": "stdout",
     "output_type": "stream",
     "text": [
      "Model: \"sequential_2\"\n",
      "_________________________________________________________________\n",
      " Layer (type)                Output Shape              Param #   \n",
      "=================================================================\n",
      " embedding_2 (Embedding)     (None, None, 16)          160016    \n",
      "                                                                 \n",
      " dropout_4 (Dropout)         (None, None, 16)          0         \n",
      "                                                                 \n",
      " global_average_pooling1d_2  (None, 16)                0         \n",
      "  (GlobalAveragePooling1D)                                       \n",
      "                                                                 \n",
      " dropout_5 (Dropout)         (None, 16)                0         \n",
      "                                                                 \n",
      " dense_2 (Dense)             (None, 1)                 17        \n",
      "                                                                 \n",
      "=================================================================\n",
      "Total params: 160033 (625.13 KB)\n",
      "Trainable params: 160033 (625.13 KB)\n",
      "Non-trainable params: 0 (0.00 Byte)\n",
      "_________________________________________________________________\n"
     ]
    }
   ],
   "source": [
    "model = tf.keras.Sequential([\n",
    "  layers.Embedding(max_features + 1, embedding_dim),\n",
    "  layers.Dropout(0.2),\n",
    "  layers.GlobalAveragePooling1D(),\n",
    "  layers.Dropout(0.2),\n",
    "  layers.Dense(1)])\n",
    "\n",
    "model.summary()\n",
    "\n"
   ]
  },
  {
   "cell_type": "code",
   "execution_count": 17,
   "id": "52764b39-218c-456e-b7f9-4b74ef000b99",
   "metadata": {},
   "outputs": [
    {
     "name": "stdout",
     "output_type": "stream",
     "text": [
      "Epoch 1/10\n",
      "391/391 [==============================] - 18s 45ms/step - loss: 0.6753 - binary_accuracy: 0.6826\n",
      "Epoch 2/10\n",
      "391/391 [==============================] - 1s 2ms/step - loss: 0.5941 - binary_accuracy: 0.7772\n",
      "Epoch 3/10\n",
      "391/391 [==============================] - 1s 2ms/step - loss: 0.5029 - binary_accuracy: 0.8228\n",
      "Epoch 4/10\n",
      "391/391 [==============================] - 1s 2ms/step - loss: 0.4328 - binary_accuracy: 0.8500\n",
      "Epoch 5/10\n",
      "391/391 [==============================] - 1s 2ms/step - loss: 0.3850 - binary_accuracy: 0.8642\n",
      "Epoch 6/10\n",
      "391/391 [==============================] - 1s 2ms/step - loss: 0.3508 - binary_accuracy: 0.8748\n",
      "Epoch 7/10\n",
      "391/391 [==============================] - 1s 2ms/step - loss: 0.3246 - binary_accuracy: 0.8816\n",
      "Epoch 8/10\n",
      "391/391 [==============================] - 1s 2ms/step - loss: 0.3038 - binary_accuracy: 0.8888\n",
      "Epoch 9/10\n",
      "391/391 [==============================] - 1s 2ms/step - loss: 0.2879 - binary_accuracy: 0.8953\n",
      "Epoch 10/10\n",
      "391/391 [==============================] - 1s 2ms/step - loss: 0.2725 - binary_accuracy: 0.9000\n",
      "391/391 [==============================] - 1s 1ms/step - loss: 0.2600 - binary_accuracy: 0.9044\n",
      "Loss:  0.2599794268608093\n",
      "Accuracy:  0.9043599963188171\n"
     ]
    }
   ],
   "source": [
    "model.compile(loss=losses.BinaryCrossentropy(from_logits=True),\n",
    "              optimizer='adam',\n",
    "              metrics=tf.metrics.BinaryAccuracy(threshold=0.0))\n",
    "history = model.fit(\n",
    "    train_ds,\n",
    "    epochs=epochs)\n",
    "\n",
    "loss, accuracy = model.evaluate(test_ds)\n",
    "\n",
    "print(\"Loss: \", loss)\n",
    "print(\"Accuracy: \", accuracy)"
   ]
  },
  {
   "cell_type": "markdown",
   "id": "90bdf98d-b3cc-462f-a440-66c65c4a10cf",
   "metadata": {},
   "source": [
    "# Weight clustering"
   ]
  },
  {
   "cell_type": "code",
   "execution_count": 18,
   "id": "1bd44631-a7cb-436b-85e5-319b691e99f9",
   "metadata": {},
   "outputs": [
    {
     "name": "stdout",
     "output_type": "stream",
     "text": [
      "Model: \"sequential_2\"\n",
      "_________________________________________________________________\n",
      " Layer (type)                Output Shape              Param #   \n",
      "=================================================================\n",
      " cluster_embedding_2 (Clust  (None, None, 16)          320048    \n",
      " erWeights)                                                      \n",
      "                                                                 \n",
      " cluster_dropout_4 (Cluster  (None, None, 16)          0         \n",
      " Weights)                                                        \n",
      "                                                                 \n",
      " cluster_global_average_poo  (None, 16)                0         \n",
      " ling1d_2 (ClusterWeights)                                       \n",
      "                                                                 \n",
      " cluster_dropout_5 (Cluster  (None, 16)                0         \n",
      " Weights)                                                        \n",
      "                                                                 \n",
      " cluster_dense_2 (ClusterWe  (None, 1)                 49        \n",
      " ights)                                                          \n",
      "                                                                 \n",
      "=================================================================\n",
      "Total params: 320097 (1.83 MB)\n",
      "Trainable params: 160065 (625.25 KB)\n",
      "Non-trainable params: 160032 (1.22 MB)\n",
      "_________________________________________________________________\n"
     ]
    }
   ],
   "source": [
    "import tensorflow_model_optimization as tfmot\n",
    "\n",
    "cluster_weights = tfmot.clustering.keras.cluster_weights\n",
    "CentroidInitialization = tfmot.clustering.keras.CentroidInitialization\n",
    "\n",
    "clustering_params = {\n",
    "  'number_of_clusters': 16,\n",
    "  'cluster_centroids_init': CentroidInitialization.LINEAR\n",
    "}\n",
    "\n",
    "# Cluster a whole model\n",
    "clustered_model = cluster_weights(model, **clustering_params)\n",
    "clustered_model.summary()"
   ]
  },
  {
   "cell_type": "code",
   "execution_count": 19,
   "id": "a38b8d80-d4e5-4b4a-ae11-9a6d5bfa8ef5",
   "metadata": {},
   "outputs": [
    {
     "name": "stdout",
     "output_type": "stream",
     "text": [
      "391/391 [==============================] - 1s 2ms/step - loss: 0.3468 - binary_accuracy: 0.8349\n",
      "Loss:  0.34677305817604065\n",
      "Accuracy:  0.834879994392395\n"
     ]
    }
   ],
   "source": [
    "clustered_model.compile(loss=losses.BinaryCrossentropy(from_logits=True),\n",
    "              optimizer='adam',\n",
    "              metrics=tf.metrics.BinaryAccuracy(threshold=0.0))\n",
    "\n",
    "loss, accuracy = clustered_model.evaluate(test_ds)\n",
    "print(\"Loss: \", loss)\n",
    "print(\"Accuracy: \", accuracy)"
   ]
  },
  {
   "cell_type": "markdown",
   "id": "6f05f368-d344-45d7-9b9f-78751351b7b0",
   "metadata": {},
   "source": [
    "# Fine-tuning"
   ]
  },
  {
   "cell_type": "code",
   "execution_count": 20,
   "id": "31ce69d2-849f-40d4-a74b-a0a507868c8f",
   "metadata": {},
   "outputs": [
    {
     "name": "stdout",
     "output_type": "stream",
     "text": [
      "391/391 [==============================] - 20s 49ms/step - loss: 0.2702 - binary_accuracy: 0.8953\n",
      "391/391 [==============================] - 1s 2ms/step - loss: 0.2596 - binary_accuracy: 0.9021\n",
      "Loss:  0.2596341669559479\n",
      "Accuracy:  0.9021199941635132\n"
     ]
    }
   ],
   "source": [
    "\n",
    "history = clustered_model.fit(\n",
    "    train_ds,\n",
    "    epochs=1)\n",
    "\n",
    "loss, accuracy = clustered_model.evaluate(test_ds)\n",
    "\n",
    "print(\"Loss: \", loss)\n",
    "print(\"Accuracy: \", accuracy)"
   ]
  },
  {
   "cell_type": "code",
   "execution_count": null,
   "id": "199c3f9f-4953-4bbe-b3b3-15ce6b65e86f",
   "metadata": {},
   "outputs": [],
   "source": []
  },
  {
   "cell_type": "code",
   "execution_count": null,
   "id": "c7e89172-dbb7-47b2-bd76-654e755bd718",
   "metadata": {},
   "outputs": [],
   "source": []
  },
  {
   "cell_type": "code",
   "execution_count": null,
   "id": "b01a3161-33d0-44ff-b4d6-143a9b996e87",
   "metadata": {},
   "outputs": [],
   "source": []
  }
 ],
 "metadata": {
  "kernelspec": {
   "display_name": "tf_env",
   "language": "python",
   "name": "tf"
  },
  "language_info": {
   "codemirror_mode": {
    "name": "ipython",
    "version": 3
   },
   "file_extension": ".py",
   "mimetype": "text/x-python",
   "name": "python",
   "nbconvert_exporter": "python",
   "pygments_lexer": "ipython3",
   "version": "3.9.18"
  }
 },
 "nbformat": 4,
 "nbformat_minor": 5
}
