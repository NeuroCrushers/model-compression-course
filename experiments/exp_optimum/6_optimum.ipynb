{
 "cells": [
  {
   "cell_type": "code",
   "execution_count": 3,
   "metadata": {},
   "outputs": [
    {
     "name": "stdout",
     "output_type": "stream",
     "text": [
      "Collecting optimum-intel\n",
      "  Downloading optimum-intel-1.11.0.tar.gz (96 kB)\n",
      "     ---------------------------------------- 0.0/96.0 kB ? eta -:--:--\n",
      "     ------------ --------------------------- 30.7/96.0 kB 1.4 MB/s eta 0:00:01\n",
      "     -------------------------------------- 96.0/96.0 kB 922.5 kB/s eta 0:00:00\n",
      "  Installing build dependencies: started\n",
      "  Installing build dependencies: finished with status 'done'\n",
      "  Getting requirements to build wheel: started\n",
      "  Getting requirements to build wheel: finished with status 'done'\n",
      "  Preparing metadata (pyproject.toml): started\n",
      "  Preparing metadata (pyproject.toml): finished with status 'done'\n",
      "Requirement already satisfied: optimum>=1.13.0 in c:\\users\\mgduck\\appdata\\local\\programs\\python\\python38\\lib\\site-packages (from optimum-intel) (1.13.2)\n",
      "Requirement already satisfied: transformers>=4.20.0 in c:\\users\\mgduck\\appdata\\local\\programs\\python\\python38\\lib\\site-packages (from optimum-intel) (4.33.2)\n",
      "Requirement already satisfied: datasets>=1.4.0 in c:\\users\\mgduck\\appdata\\local\\programs\\python\\python38\\lib\\site-packages (from optimum-intel) (2.14.5)\n",
      "Requirement already satisfied: sentencepiece in c:\\users\\mgduck\\appdata\\local\\programs\\python\\python38\\lib\\site-packages (from optimum-intel) (0.1.99)\n",
      "Requirement already satisfied: scipy in c:\\users\\mgduck\\appdata\\local\\programs\\python\\python38\\lib\\site-packages (from optimum-intel) (1.10.1)\n",
      "Collecting accelerate (from optimum-intel)\n",
      "  Obtaining dependency information for accelerate from https://files.pythonhosted.org/packages/d9/92/2d3aecf9f4a192968035880be3e2fc8b48d541c7128f7c936f430d6f96da/accelerate-0.23.0-py3-none-any.whl.metadata\n",
      "  Downloading accelerate-0.23.0-py3-none-any.whl.metadata (18 kB)\n",
      "Requirement already satisfied: numpy>=1.17 in c:\\users\\mgduck\\appdata\\local\\programs\\python\\python38\\lib\\site-packages (from datasets>=1.4.0->optimum-intel) (1.24.1)\n",
      "Requirement already satisfied: pyarrow>=8.0.0 in c:\\users\\mgduck\\appdata\\local\\programs\\python\\python38\\lib\\site-packages (from datasets>=1.4.0->optimum-intel) (13.0.0)\n",
      "Requirement already satisfied: dill<0.3.8,>=0.3.0 in c:\\users\\mgduck\\appdata\\local\\programs\\python\\python38\\lib\\site-packages (from datasets>=1.4.0->optimum-intel) (0.3.7)\n",
      "Requirement already satisfied: pandas in c:\\users\\mgduck\\appdata\\local\\programs\\python\\python38\\lib\\site-packages (from datasets>=1.4.0->optimum-intel) (1.5.3)\n",
      "Requirement already satisfied: requests>=2.19.0 in c:\\users\\mgduck\\appdata\\local\\programs\\python\\python38\\lib\\site-packages (from datasets>=1.4.0->optimum-intel) (2.27.1)\n",
      "Requirement already satisfied: tqdm>=4.62.1 in c:\\users\\mgduck\\appdata\\local\\programs\\python\\python38\\lib\\site-packages (from datasets>=1.4.0->optimum-intel) (4.66.1)\n",
      "Requirement already satisfied: xxhash in c:\\users\\mgduck\\appdata\\local\\programs\\python\\python38\\lib\\site-packages (from datasets>=1.4.0->optimum-intel) (3.3.0)\n",
      "Requirement already satisfied: multiprocess in c:\\users\\mgduck\\appdata\\local\\programs\\python\\python38\\lib\\site-packages (from datasets>=1.4.0->optimum-intel) (0.70.15)\n",
      "Requirement already satisfied: fsspec[http]<2023.9.0,>=2023.1.0 in c:\\users\\mgduck\\appdata\\local\\programs\\python\\python38\\lib\\site-packages (from datasets>=1.4.0->optimum-intel) (2023.6.0)\n",
      "Requirement already satisfied: aiohttp in c:\\users\\mgduck\\appdata\\local\\programs\\python\\python38\\lib\\site-packages (from datasets>=1.4.0->optimum-intel) (3.8.5)\n",
      "Requirement already satisfied: huggingface-hub<1.0.0,>=0.14.0 in c:\\users\\mgduck\\appdata\\local\\programs\\python\\python38\\lib\\site-packages (from datasets>=1.4.0->optimum-intel) (0.17.3)\n",
      "Requirement already satisfied: packaging in c:\\users\\mgduck\\appdata\\roaming\\python\\python38\\site-packages (from datasets>=1.4.0->optimum-intel) (23.2)\n",
      "Requirement already satisfied: pyyaml>=5.1 in c:\\users\\mgduck\\appdata\\local\\programs\\python\\python38\\lib\\site-packages (from datasets>=1.4.0->optimum-intel) (6.0.1)\n",
      "Requirement already satisfied: coloredlogs in c:\\users\\mgduck\\appdata\\local\\programs\\python\\python38\\lib\\site-packages (from optimum>=1.13.0->optimum-intel) (15.0.1)\n",
      "Requirement already satisfied: sympy in c:\\users\\mgduck\\appdata\\local\\programs\\python\\python38\\lib\\site-packages (from optimum>=1.13.0->optimum-intel) (1.12)\n",
      "Requirement already satisfied: torch>=1.9 in c:\\users\\mgduck\\appdata\\local\\programs\\python\\python38\\lib\\site-packages (from optimum>=1.13.0->optimum-intel) (2.0.1+cu118)\n",
      "Requirement already satisfied: filelock in c:\\users\\mgduck\\appdata\\local\\programs\\python\\python38\\lib\\site-packages (from transformers>=4.20.0->optimum-intel) (3.9.0)\n",
      "Requirement already satisfied: regex!=2019.12.17 in c:\\users\\mgduck\\appdata\\local\\programs\\python\\python38\\lib\\site-packages (from transformers>=4.20.0->optimum-intel) (2023.8.8)\n",
      "Requirement already satisfied: tokenizers!=0.11.3,<0.14,>=0.11.1 in c:\\users\\mgduck\\appdata\\local\\programs\\python\\python38\\lib\\site-packages (from transformers>=4.20.0->optimum-intel) (0.13.3)\n",
      "Requirement already satisfied: safetensors>=0.3.1 in c:\\users\\mgduck\\appdata\\local\\programs\\python\\python38\\lib\\site-packages (from transformers>=4.20.0->optimum-intel) (0.3.3)\n",
      "Requirement already satisfied: psutil in c:\\users\\mgduck\\appdata\\roaming\\python\\python38\\site-packages (from accelerate->optimum-intel) (5.9.5)\n",
      "Requirement already satisfied: attrs>=17.3.0 in c:\\users\\mgduck\\appdata\\local\\programs\\python\\python38\\lib\\site-packages (from aiohttp->datasets>=1.4.0->optimum-intel) (23.1.0)\n",
      "Requirement already satisfied: charset-normalizer<4.0,>=2.0 in c:\\users\\mgduck\\appdata\\local\\programs\\python\\python38\\lib\\site-packages (from aiohttp->datasets>=1.4.0->optimum-intel) (2.0.12)\n",
      "Requirement already satisfied: multidict<7.0,>=4.5 in c:\\users\\mgduck\\appdata\\local\\programs\\python\\python38\\lib\\site-packages (from aiohttp->datasets>=1.4.0->optimum-intel) (6.0.4)\n",
      "Requirement already satisfied: async-timeout<5.0,>=4.0.0a3 in c:\\users\\mgduck\\appdata\\local\\programs\\python\\python38\\lib\\site-packages (from aiohttp->datasets>=1.4.0->optimum-intel) (4.0.3)\n",
      "Requirement already satisfied: yarl<2.0,>=1.0 in c:\\users\\mgduck\\appdata\\local\\programs\\python\\python38\\lib\\site-packages (from aiohttp->datasets>=1.4.0->optimum-intel) (1.9.2)\n",
      "Requirement already satisfied: frozenlist>=1.1.1 in c:\\users\\mgduck\\appdata\\local\\programs\\python\\python38\\lib\\site-packages (from aiohttp->datasets>=1.4.0->optimum-intel) (1.4.0)\n",
      "Requirement already satisfied: aiosignal>=1.1.2 in c:\\users\\mgduck\\appdata\\local\\programs\\python\\python38\\lib\\site-packages (from aiohttp->datasets>=1.4.0->optimum-intel) (1.3.1)\n",
      "Requirement already satisfied: typing-extensions>=3.7.4.3 in c:\\users\\mgduck\\appdata\\roaming\\python\\python38\\site-packages (from huggingface-hub<1.0.0,>=0.14.0->datasets>=1.4.0->optimum-intel) (4.8.0)\n",
      "Requirement already satisfied: urllib3<1.27,>=1.21.1 in c:\\users\\mgduck\\appdata\\local\\programs\\python\\python38\\lib\\site-packages (from requests>=2.19.0->datasets>=1.4.0->optimum-intel) (1.26.13)\n",
      "Requirement already satisfied: certifi>=2017.4.17 in c:\\users\\mgduck\\appdata\\local\\programs\\python\\python38\\lib\\site-packages (from requests>=2.19.0->datasets>=1.4.0->optimum-intel) (2022.12.7)\n",
      "Requirement already satisfied: idna<4,>=2.5 in c:\\users\\mgduck\\appdata\\local\\programs\\python\\python38\\lib\\site-packages (from requests>=2.19.0->datasets>=1.4.0->optimum-intel) (3.4)\n",
      "Requirement already satisfied: networkx in c:\\users\\mgduck\\appdata\\local\\programs\\python\\python38\\lib\\site-packages (from torch>=1.9->optimum>=1.13.0->optimum-intel) (3.0)\n",
      "Requirement already satisfied: jinja2 in c:\\users\\mgduck\\appdata\\local\\programs\\python\\python38\\lib\\site-packages (from torch>=1.9->optimum>=1.13.0->optimum-intel) (3.1.2)\n",
      "Requirement already satisfied: colorama in c:\\users\\mgduck\\appdata\\roaming\\python\\python38\\site-packages (from tqdm>=4.62.1->datasets>=1.4.0->optimum-intel) (0.4.6)\n",
      "Requirement already satisfied: protobuf in c:\\users\\mgduck\\appdata\\local\\programs\\python\\python38\\lib\\site-packages (from transformers>=4.20.0->optimum-intel) (4.24.4)\n",
      "Requirement already satisfied: humanfriendly>=9.1 in c:\\users\\mgduck\\appdata\\local\\programs\\python\\python38\\lib\\site-packages (from coloredlogs->optimum>=1.13.0->optimum-intel) (10.0)\n",
      "Requirement already satisfied: python-dateutil>=2.8.1 in c:\\users\\mgduck\\appdata\\roaming\\python\\python38\\site-packages (from pandas->datasets>=1.4.0->optimum-intel) (2.8.2)\n",
      "Requirement already satisfied: pytz>=2020.1 in c:\\users\\mgduck\\appdata\\local\\programs\\python\\python38\\lib\\site-packages (from pandas->datasets>=1.4.0->optimum-intel) (2023.3.post1)\n",
      "Requirement already satisfied: mpmath>=0.19 in c:\\users\\mgduck\\appdata\\local\\programs\\python\\python38\\lib\\site-packages (from sympy->optimum>=1.13.0->optimum-intel) (1.3.0)\n",
      "Requirement already satisfied: pyreadline3 in c:\\users\\mgduck\\appdata\\local\\programs\\python\\python38\\lib\\site-packages (from humanfriendly>=9.1->coloredlogs->optimum>=1.13.0->optimum-intel) (3.4.1)\n",
      "Requirement already satisfied: six>=1.5 in c:\\users\\mgduck\\appdata\\roaming\\python\\python38\\site-packages (from python-dateutil>=2.8.1->pandas->datasets>=1.4.0->optimum-intel) (1.16.0)\n",
      "Requirement already satisfied: MarkupSafe>=2.0 in c:\\users\\mgduck\\appdata\\local\\programs\\python\\python38\\lib\\site-packages (from jinja2->torch>=1.9->optimum>=1.13.0->optimum-intel) (2.1.2)\n",
      "Downloading accelerate-0.23.0-py3-none-any.whl (258 kB)\n",
      "   ---------------------------------------- 0.0/258.1 kB ? eta -:--:--\n",
      "   ----------------- ---------------------- 112.6/258.1 kB 6.8 MB/s eta 0:00:01\n",
      "   ---------------------------------------- 258.1/258.1 kB 2.7 MB/s eta 0:00:00\n",
      "Building wheels for collected packages: optimum-intel\n",
      "  Building wheel for optimum-intel (pyproject.toml): started\n",
      "  Building wheel for optimum-intel (pyproject.toml): finished with status 'done'\n",
      "  Created wheel for optimum-intel: filename=optimum_intel-1.11.0-py3-none-any.whl size=124153 sha256=e13b188063f4793010f214d366d8cab65f1250cc2dba491b251b045dfc2bffc8\n",
      "  Stored in directory: c:\\users\\mgduck\\appdata\\local\\pip\\cache\\wheels\\1a\\0c\\42\\4837ab7f2e5ef493ae43437b336c3062b87472ceb977aa0fae\n",
      "Successfully built optimum-intel\n",
      "Installing collected packages: accelerate, optimum-intel\n",
      "Successfully installed accelerate-0.23.0 optimum-intel-1.11.0\n",
      "Note: you may need to restart the kernel to use updated packages.\n"
     ]
    },
    {
     "name": "stderr",
     "output_type": "stream",
     "text": [
      "\n",
      "[notice] A new release of pip is available: 23.2.1 -> 23.3.1\n",
      "[notice] To update, run: python.exe -m pip install --upgrade pip\n"
     ]
    }
   ],
   "source": [
    "%pip install optimum-intel"
   ]
  },
  {
   "cell_type": "code",
   "execution_count": 1,
   "metadata": {},
   "outputs": [
    {
     "name": "stderr",
     "output_type": "stream",
     "text": [
      "c:\\Users\\MgDuck\\AppData\\Local\\Programs\\Python\\Python38\\lib\\site-packages\\tqdm\\auto.py:21: TqdmWarning: IProgress not found. Please update jupyter and ipywidgets. See https://ipywidgets.readthedocs.io/en/stable/user_install.html\n",
      "  from .autonotebook import tqdm as notebook_tqdm\n"
     ]
    }
   ],
   "source": [
    "import torch\n",
    "import torch.utils.benchmark as benchmark\n",
    "from transformers import AutoModelForSequenceClassification, AutoTokenizer\n",
    "from optimum.intel import OVModelForSequenceClassification\n",
    "from datasets import load_dataset\n",
    "from torch.utils.data import DataLoader\n",
    "from tqdm import tqdm\n",
    "from sklearn.metrics import f1_score"
   ]
  },
  {
   "cell_type": "code",
   "execution_count": 2,
   "metadata": {},
   "outputs": [
    {
     "data": {
      "text/plain": [
       "BertForSequenceClassification(\n",
       "  (bert): BertModel(\n",
       "    (embeddings): BertEmbeddings(\n",
       "      (word_embeddings): Embedding(28996, 768, padding_idx=0)\n",
       "      (position_embeddings): Embedding(512, 768)\n",
       "      (token_type_embeddings): Embedding(2, 768)\n",
       "      (LayerNorm): LayerNorm((768,), eps=1e-12, elementwise_affine=True)\n",
       "      (dropout): Dropout(p=0.1, inplace=False)\n",
       "    )\n",
       "    (encoder): BertEncoder(\n",
       "      (layer): ModuleList(\n",
       "        (0-11): 12 x BertLayer(\n",
       "          (attention): BertAttention(\n",
       "            (self): BertSelfAttention(\n",
       "              (query): Linear(in_features=768, out_features=768, bias=True)\n",
       "              (key): Linear(in_features=768, out_features=768, bias=True)\n",
       "              (value): Linear(in_features=768, out_features=768, bias=True)\n",
       "              (dropout): Dropout(p=0.1, inplace=False)\n",
       "            )\n",
       "            (output): BertSelfOutput(\n",
       "              (dense): Linear(in_features=768, out_features=768, bias=True)\n",
       "              (LayerNorm): LayerNorm((768,), eps=1e-12, elementwise_affine=True)\n",
       "              (dropout): Dropout(p=0.1, inplace=False)\n",
       "            )\n",
       "          )\n",
       "          (intermediate): BertIntermediate(\n",
       "            (dense): Linear(in_features=768, out_features=3072, bias=True)\n",
       "            (intermediate_act_fn): GELUActivation()\n",
       "          )\n",
       "          (output): BertOutput(\n",
       "            (dense): Linear(in_features=3072, out_features=768, bias=True)\n",
       "            (LayerNorm): LayerNorm((768,), eps=1e-12, elementwise_affine=True)\n",
       "            (dropout): Dropout(p=0.1, inplace=False)\n",
       "          )\n",
       "        )\n",
       "      )\n",
       "    )\n",
       "    (pooler): BertPooler(\n",
       "      (dense): Linear(in_features=768, out_features=768, bias=True)\n",
       "      (activation): Tanh()\n",
       "    )\n",
       "  )\n",
       "  (dropout): Dropout(p=0.1, inplace=False)\n",
       "  (classifier): Linear(in_features=768, out_features=3, bias=True)\n",
       ")"
      ]
     },
     "execution_count": 2,
     "metadata": {},
     "output_type": "execute_result"
    }
   ],
   "source": [
    "from transformers import AutoModelForSequenceClassification\n",
    "\n",
    "tokenizer = AutoTokenizer.from_pretrained(\"bert-base-cased\")\n",
    "\n",
    "#Либо это....\n",
    "#model = torch.load('baseline.pt')\n",
    "\n",
    "\n",
    "#.....либо это\n",
    "model = AutoModelForSequenceClassification.from_pretrained('mgduck/bert_temp_experiment')\n",
    "\n",
    "\n",
    "model.to('cpu')\n",
    "\n",
    "# Убеждаемся, что модель в режиме оценки\n",
    "model.eval()\n"
   ]
  },
  {
   "cell_type": "code",
   "execution_count": 15,
   "metadata": {},
   "outputs": [],
   "source": [
    "#torch.save(model.state_dict(), \"baseline.bin\")"
   ]
  },
  {
   "cell_type": "code",
   "execution_count": 3,
   "metadata": {},
   "outputs": [
    {
     "name": "stderr",
     "output_type": "stream",
     "text": [
      "Framework not specified. Using pt to export to ONNX.\n",
      "Using framework PyTorch: 2.0.1+cu118\n",
      "Overriding 1 configuration item(s)\n",
      "\t- use_cache -> False\n"
     ]
    },
    {
     "name": "stdout",
     "output_type": "stream",
     "text": [
      "============= Diagnostic Run torch.onnx.export version 2.0.1+cu118 =============\n",
      "verbose: False, log level: Level.ERROR\n",
      "======================= 0 NONE 0 NOTE 0 WARNING 0 ERROR ========================\n",
      "\n"
     ]
    },
    {
     "name": "stderr",
     "output_type": "stream",
     "text": [
      "Compiling the model...\n",
      "Set CACHE_DIR to C:\\Users\\MgDuck\\AppData\\Local\\Temp\\tmprod83qdt\\model_cache\n"
     ]
    }
   ],
   "source": [
    "model_optim = OVModelForSequenceClassification.from_pretrained('mgduck/bert_temp_experiment',  export=True)"
   ]
  },
  {
   "cell_type": "code",
   "execution_count": 4,
   "metadata": {},
   "outputs": [],
   "source": [
    "\n",
    "dataset = load_dataset(\"mteb/tweet_sentiment_extraction\")\n",
    "dataset.set_format(type=\"torch\", columns=[\"text\", \"label\"])\n",
    "test_dataset = dataset['test']\n",
    "test_loader = DataLoader(test_dataset, batch_size=32)"
   ]
  },
  {
   "cell_type": "code",
   "execution_count": 5,
   "metadata": {},
   "outputs": [
    {
     "name": "stderr",
     "output_type": "stream",
     "text": [
      "F1 for batch 110: 0.857: 100%|██████████| 111/111 [01:21<00:00,  1.37it/s]"
     ]
    },
    {
     "name": "stdout",
     "output_type": "stream",
     "text": [
      "\n",
      "Total F1 score: 0.77\n"
     ]
    },
    {
     "name": "stderr",
     "output_type": "stream",
     "text": [
      "\n"
     ]
    }
   ],
   "source": [
    "true = []\n",
    "preds = []\n",
    "with torch.no_grad():\n",
    "    tq = tqdm(test_loader)\n",
    "    for batch_num, batch in enumerate(tq):\n",
    "\n",
    "\n",
    "        tokenized_batch = tokenizer(batch[\"text\"], return_tensors=\"pt\", truncation=True, padding=True, max_length=50)\n",
    "        ids = tokenized_batch['input_ids'].to('cpu')\n",
    "        mask = tokenized_batch['attention_mask'].to('cpu')\n",
    "        y = batch['label']\n",
    "\n",
    "\n",
    "        input = {'input_ids': ids, 'attention_mask': mask}\n",
    "        logits = model(**input).logits\n",
    "        y_pred = torch.argmax(logits, axis=1).cpu()\n",
    "\n",
    "        preds.extend(list(y_pred))\n",
    "        true.extend(list(y.numpy()))\n",
    "        tq.set_description(\n",
    "            f'\\rF1 for batch {batch_num}: {round(f1_score(y, y_pred, average=\"weighted\"), 3)}')\n",
    "f1 = f1_score(true, preds, average=\"weighted\")\n",
    "print(f'\\nTotal F1 score: {round(f1, 2)}')"
   ]
  },
  {
   "cell_type": "code",
   "execution_count": 6,
   "metadata": {},
   "outputs": [],
   "source": [
    "dataset = load_dataset(\"mteb/tweet_sentiment_extraction\")\n",
    "dataset.set_format(type=\"torch\", columns=[\"text\", \"label\"])\n",
    "test_dataset = dataset['test']\n",
    "test_loader = DataLoader(test_dataset, batch_size=32)"
   ]
  },
  {
   "cell_type": "code",
   "execution_count": 7,
   "metadata": {},
   "outputs": [
    {
     "name": "stderr",
     "output_type": "stream",
     "text": [
      "F1 for batch 110: 0.857: 100%|██████████| 111/111 [00:50<00:00,  2.18it/s]"
     ]
    },
    {
     "name": "stdout",
     "output_type": "stream",
     "text": [
      "\n",
      "Total F1 score: 0.77\n"
     ]
    },
    {
     "name": "stderr",
     "output_type": "stream",
     "text": [
      "\n"
     ]
    }
   ],
   "source": [
    "true = []\n",
    "preds = []\n",
    "with torch.no_grad():\n",
    "    tq = tqdm(test_loader)\n",
    "    for batch_num, batch in enumerate(tq):\n",
    "\n",
    "\n",
    "        y = batch['label']\n",
    "\n",
    "        input = tokenizer(batch[\"text\"], return_tensors=\"pt\", truncation=True, padding=True, max_length=50)\n",
    "        logits = model_optim(**input).logits\n",
    "        y_pred = torch.argmax(logits, axis=1).cpu()\n",
    "\n",
    "        preds.extend(list(y_pred))\n",
    "        true.extend(list(y.numpy()))\n",
    "        tq.set_description(\n",
    "            f'\\rF1 for batch {batch_num}: {round(f1_score(y, y_pred, average=\"weighted\"), 3)}')\n",
    "f1 = f1_score(true, preds, average=\"weighted\")\n",
    "print(f'\\nTotal F1 score: {round(f1, 2)}')"
   ]
  }
 ],
 "metadata": {
  "kernelspec": {
   "display_name": "Python 3",
   "language": "python",
   "name": "python3"
  },
  "language_info": {
   "codemirror_mode": {
    "name": "ipython",
    "version": 3
   },
   "file_extension": ".py",
   "mimetype": "text/x-python",
   "name": "python",
   "nbconvert_exporter": "python",
   "pygments_lexer": "ipython3",
   "version": "3.8.6"
  }
 },
 "nbformat": 4,
 "nbformat_minor": 2
}
