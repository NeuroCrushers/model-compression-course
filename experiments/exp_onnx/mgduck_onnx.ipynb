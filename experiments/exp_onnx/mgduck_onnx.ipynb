{
 "cells": [
  {
   "cell_type": "code",
   "execution_count": 1,
   "metadata": {},
   "outputs": [
    {
     "name": "stderr",
     "output_type": "stream",
     "text": [
      "c:\\Users\\MgDuck\\AppData\\Local\\Programs\\Python\\Python38\\lib\\site-packages\\tqdm\\auto.py:21: TqdmWarning: IProgress not found. Please update jupyter and ipywidgets. See https://ipywidgets.readthedocs.io/en/stable/user_install.html\n",
      "  from .autonotebook import tqdm as notebook_tqdm\n"
     ]
    }
   ],
   "source": [
    "import torch\n",
    "from transformers import BertTokenizer, BertForSequenceClassification\n",
    "import onnx\n",
    "import onnxruntime\n",
    "from sklearn.metrics import f1_score\n",
    "import time\n",
    "import os\n",
    "from datasets import load_dataset\n",
    "\n",
    "import numpy as np\n",
    "from transformers import AutoModelForSequenceClassification, AutoTokenizer\n",
    "from onnxruntime import (\n",
    "    InferenceSession,\n",
    "    SessionOptions\n",
    ")"
   ]
  },
  {
   "cell_type": "code",
   "execution_count": 2,
   "metadata": {},
   "outputs": [],
   "source": [
    "def convert_from_torch_to_onnx(\n",
    "    onnx_path: str,\n",
    "    tokenizer: AutoTokenizer,\n",
    "    model: AutoModelForSequenceClassification\n",
    "):\n",
    "    dummy_model_input = tokenizer(\n",
    "        \"Один два три четыре\",\n",
    "        padding=\"max_length\",\n",
    "        truncation=True,\n",
    "        max_length=512,\n",
    "        return_tensors=\"pt\",\n",
    "    ).to(\"cpu\")\n",
    "    torch.onnx.export(\n",
    "        model,\n",
    "        dummy_model_input[\"input_ids\"],\n",
    "        onnx_path,\n",
    "        opset_version=12,\n",
    "        input_names=[\"input_ids\"],\n",
    "        output_names=[\"last_hidden_state\", \"pooler_output\"],\n",
    "        dynamic_axes={\n",
    "            \"input_ids\": {\n",
    "                0: \"batch_size\",\n",
    "                1: \"sequence_len\"\n",
    "            },\n",
    "            \"output\": {\n",
    "                0: \"batch_size\"\n",
    "            }\n",
    "        }\n",
    "    )"
   ]
  },
  {
   "cell_type": "code",
   "execution_count": 3,
   "metadata": {},
   "outputs": [
    {
     "name": "stderr",
     "output_type": "stream",
     "text": [
      "c:\\Users\\MgDuck\\AppData\\Local\\Programs\\Python\\Python38\\lib\\site-packages\\torch\\onnx\\utils.py:2029: UserWarning: Provided key output for dynamic axes is not a valid input/output name\n",
      "  warnings.warn(\n"
     ]
    },
    {
     "name": "stdout",
     "output_type": "stream",
     "text": [
      "============= Diagnostic Run torch.onnx.export version 2.0.1+cu118 =============\n",
      "verbose: False, log level: Level.ERROR\n",
      "======================= 0 NONE 0 NOTE 0 WARNING 0 ERROR ========================\n",
      "\n"
     ]
    }
   ],
   "source": [
    "# Сохранение BERT модели в ONNX\n",
    "onnx_path = \"bert-base-cased.onnx\"\n",
    "device = torch.device(\"cpu\")\n",
    "\n",
    "tokenizer = AutoTokenizer.from_pretrained(\"bert-base-cased\")\n",
    "#bert_model = AutoModelForSequenceClassification.from_pretrained(\"bert-base-cased\")\n",
    "\n",
    "model_path = 'baseline.pt'\n",
    "\n",
    "\n",
    "bert_model = torch.load(model_path).to(device)\n",
    "\n",
    "\n",
    "bert_model.eval()\n",
    "\n",
    "\n",
    "bert_model = bert_model.bert\n",
    "convert_from_torch_to_onnx(onnx_path, tokenizer, bert_model)"
   ]
  },
  {
   "cell_type": "markdown",
   "metadata": {},
   "source": [
    "# Inference"
   ]
  },
  {
   "cell_type": "code",
   "execution_count": 4,
   "metadata": {},
   "outputs": [
    {
     "name": "stdout",
     "output_type": "stream",
     "text": [
      "Input Names of the ONNX Model: ['input_ids']\n"
     ]
    }
   ],
   "source": [
    "import timeit\n",
    "import onnxruntime\n",
    "from transformers import AutoTokenizer\n",
    "from datasets import load_dataset\n",
    "from sklearn.metrics import f1_score\n",
    "import numpy as np\n",
    "\n",
    "dataset = load_dataset(\"mteb/tweet_sentiment_extraction\")\n",
    "\n",
    "onnx_model_path = 'bert-base-cased.onnx'\n",
    "onnx_session = onnxruntime.InferenceSession(onnx_model_path)\n",
    "\n",
    "input_names = [input_.name for input_ in onnx_session.get_inputs()]\n",
    "print(\"Input Names of the ONNX Model:\", input_names)\n",
    "\n",
    "original_tokenizer = AutoTokenizer.from_pretrained(\"bert-base-cased\")\n",
    "\n"
   ]
  },
  {
   "cell_type": "code",
   "execution_count": 5,
   "metadata": {},
   "outputs": [
    {
     "name": "stdout",
     "output_type": "stream",
     "text": [
      "Время выполнения для вашей ONNX-модели: 57.742637634277344 секунд\n"
     ]
    }
   ],
   "source": [
    "\n",
    "start_time = time.time()\n",
    "\n",
    "onnx_predictions = [onnx_session.run(None, {'input_ids': [original_tokenizer.encode(example[\"text\"], add_special_tokens=True)]}) for example in dataset[\"test\"]]\n",
    "\n",
    "end_time = time.time()\n",
    "\n",
    "onnx_execution_time = end_time - start_time\n",
    "\n",
    "print(f\"Время выполнения для вашей ONNX-модели: {onnx_execution_time} секунд\")\n"
   ]
  },
  {
   "cell_type": "code",
   "execution_count": 11,
   "metadata": {},
   "outputs": [],
   "source": [
    "def post_process_predictions(onnx_predictions):\n",
    "    softmax = lambda x: np.exp(x) / np.sum(np.exp(x), axis=-1, keepdims=True)\n",
    "    \n",
    "    processed_predictions = []\n",
    "    for prediction in onnx_predictions:\n",
    "        \n",
    "        logits = prediction[0][0]  \n",
    "        \n",
    "        \n",
    "        probabilities = softmax(logits)\n",
    "        \n",
    "       \n",
    "        class_probabilities = probabilities[:, :3] \n",
    "        \n",
    "        processed_predictions.append(class_probabilities)\n",
    "\n",
    "    return processed_predictions\n",
    "\n",
    "\n",
    "\n",
    "\n",
    "processed_predictions = post_process_predictions(onnx_predictions)\n",
    "\n",
    "#print(\"Processed Predictions:\", processed_predictions)\n"
   ]
  },
  {
   "cell_type": "code",
   "execution_count": 8,
   "metadata": {},
   "outputs": [
    {
     "data": {
      "text/plain": [
       "3534"
      ]
     },
     "execution_count": 8,
     "metadata": {},
     "output_type": "execute_result"
    }
   ],
   "source": [
    "len(processed_predictions)"
   ]
  }
 ],
 "metadata": {
  "kernelspec": {
   "display_name": "Python 3",
   "language": "python",
   "name": "python3"
  },
  "language_info": {
   "codemirror_mode": {
    "name": "ipython",
    "version": 3
   },
   "file_extension": ".py",
   "mimetype": "text/x-python",
   "name": "python",
   "nbconvert_exporter": "python",
   "pygments_lexer": "ipython3",
   "version": "3.8.6"
  },
  "orig_nbformat": 4
 },
 "nbformat": 4,
 "nbformat_minor": 2
}
